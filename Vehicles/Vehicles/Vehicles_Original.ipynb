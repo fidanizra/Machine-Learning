{
 "cells": [
  {
   "cell_type": "code",
   "execution_count": 1,
   "metadata": {},
   "outputs": [
    {
     "name": "stderr",
     "output_type": "stream",
     "text": [
      "C:\\Users\\user01\\Anaconda3\\lib\\site-packages\\IPython\\core\\interactiveshell.py:3049: DtypeWarning: Columns (70,71,72,73,74,76,79) have mixed types. Specify dtype option on import or set low_memory=False.\n",
      "  interactivity=interactivity, compiler=compiler, result=result)\n"
     ]
    }
   ],
   "source": [
    "import pandas as pd\n",
    "path = 'data'\n",
    "vehicles = pd.read_csv('vehicles.csv')"
   ]
  },
  {
   "cell_type": "code",
   "execution_count": 2,
   "metadata": {},
   "outputs": [],
   "source": [
    "select_columns = ['make', 'model', 'year', 'displ', 'cylinders', 'trany', 'drive', 'VClass','fuelType','barrels08', 'city08', 'highway08', 'comb08', 'co2TailpipeGpm', 'fuelCost08']\n",
    "vehicles = vehicles[select_columns][vehicles.year <= 2016].drop_duplicates().dropna()\n",
    "vehicles = vehicles.sort_values(['make', 'model', 'year'])"
   ]
  },
  {
   "cell_type": "code",
   "execution_count": 3,
   "metadata": {},
   "outputs": [],
   "source": [
    "vehicles.columns = ['Make','Model','Year','Engine Displacement','Cylinders',\n",
    "                    'Transmission','Drivetrain','Vehicle Class','Fuel Type',\n",
    "                    'Fuel Barrels/Year','City MPG','Highway MPG','Combined MPG',\n",
    "                    'CO2 Emission Grams/Mile','Fuel Cost/Year']"
   ]
  },
  {
   "cell_type": "code",
   "execution_count": 4,
   "metadata": {},
   "outputs": [
    {
     "name": "stdout",
     "output_type": "stream",
     "text": [
      "Make | 126 | object\n",
      "Model | 3490 | object\n",
      "Year | 33 | int64\n",
      "Engine Displacement | 65 | float64\n",
      "Cylinders | 9 | float64\n",
      "Transmission | 44 | object\n",
      "Drivetrain | 7 | object\n",
      "Vehicle Class | 34 | object\n",
      "Fuel Type | 13 | object\n",
      "Fuel Barrels/Year | 116 | float64\n",
      "City MPG | 48 | int64\n",
      "Highway MPG | 49 | int64\n",
      "Combined MPG | 46 | int64\n",
      "CO2 Emission Grams/Mile | 550 | float64\n",
      "Fuel Cost/Year | 55 | int64\n"
     ]
    }
   ],
   "source": [
    "def unique_col_values(df):\n",
    "    for column in df:\n",
    "        print(\"{} | {} | {}\".format(\n",
    "            df[column].name, len(df[column].unique()), df[column].dtype\n",
    "        ))\n",
    "unique_col_values(vehicles)"
   ]
  },
  {
   "cell_type": "code",
   "execution_count": 5,
   "metadata": {},
   "outputs": [],
   "source": [
    "AUTOMATIC = \"Automatic\"\n",
    "MANUAL = \"Manual\"\n",
    "vehicles.loc[vehicles['Transmission'].str.startswith('A'),\n",
    "             'Transmission Type'] = AUTOMATIC\n",
    "vehicles.loc[vehicles['Transmission'].str.startswith('M'),\n",
    "             'Transmission Type'] = MANUAL"
   ]
  },
  {
   "cell_type": "code",
   "execution_count": 6,
   "metadata": {},
   "outputs": [],
   "source": [
    "small = ['Compact Cars','Subcompact Cars','Two Seaters','Minicompact Cars']\n",
    "midsize = ['Midsize Cars']\n",
    "large = ['Large Cars']\n",
    "vehicles.loc[vehicles['Vehicle Class'].isin(small), \n",
    "             'Vehicle Category'] = 'Small Cars'\n",
    "vehicles.loc[vehicles['Vehicle Class'].isin(midsize), \n",
    "             'Vehicle Category'] = 'Midsize Cars'\n",
    "vehicles.loc[vehicles['Vehicle Class'].isin(large), \n",
    "             'Vehicle Category'] = 'Large Cars'\n",
    "vehicles.loc[vehicles['Vehicle Class'].str.contains('Station'), \n",
    "             'Vehicle Category'] = 'Station Wagons'\n",
    "vehicles.loc[vehicles['Vehicle Class'].str.contains('Truck'), \n",
    "             'Vehicle Category'] = 'Pickup Trucks'\n",
    "vehicles.loc[vehicles['Vehicle Class'].str.contains('Special Purpose'), \n",
    "             'Vehicle Category'] = 'Special Purpose'\n",
    "vehicles.loc[vehicles['Vehicle Class'].str.contains('Sport Utility'), \n",
    "             'Vehicle Category'] = 'Sport Utility'\n",
    "vehicles.loc[(vehicles['Vehicle Class'].str.lower().str.contains('van')),\n",
    "             'Vehicle Category'] = 'Vans & Minivans'"
   ]
  },
  {
   "cell_type": "code",
   "execution_count": 7,
   "metadata": {},
   "outputs": [],
   "source": [
    "vehicles['Model Type'] = (vehicles['Make'] + \" \" +\n",
    "                          vehicles['Model'].str.split().str.get(0))"
   ]
  },
  {
   "cell_type": "code",
   "execution_count": 8,
   "metadata": {},
   "outputs": [
    {
     "data": {
      "text/plain": [
       "array(['Regular', 'Premium', 'Diesel', 'Premium and Electricity',\n",
       "       'Premium or E85', 'Premium Gas or Electricity', 'Gasoline or E85',\n",
       "       'Gasoline or natural gas', 'CNG', 'Regular Gas or Electricity',\n",
       "       'Midgrade', 'Regular Gas and Electricity', 'Gasoline or propane'],\n",
       "      dtype=object)"
      ]
     },
     "execution_count": 8,
     "metadata": {},
     "output_type": "execute_result"
    }
   ],
   "source": [
    "vehicles['Fuel Type'].unique()"
   ]
  },
  {
   "cell_type": "code",
   "execution_count": 9,
   "metadata": {},
   "outputs": [],
   "source": [
    "vehicles['Gas'] = 0\n",
    "vehicles['Ethanol'] = 0\n",
    "vehicles['Electric'] = 0\n",
    "vehicles['Propane'] = 0\n",
    "vehicles['Natural Gas'] = 0\n",
    "vehicles.loc[vehicles['Fuel Type'].str.contains('Regular|Gasoline|Midgrade|Premium|Diesel'),'Gas'] = 1\n",
    "vehicles.loc[vehicles['Fuel Type'].str.contains('E85'),'Ethanol'] = 1\n",
    "vehicles.loc[vehicles['Fuel Type'].str.contains('Electricity'),'Electric'] = 1\n",
    "vehicles.loc[vehicles['Fuel Type'].str.contains('propane'),'Propane'] = 1\n",
    "vehicles.loc[vehicles['Fuel Type'].str.contains('natural|CNG'),'Natural Gas'] = 1"
   ]
  },
  {
   "cell_type": "code",
   "execution_count": 10,
   "metadata": {},
   "outputs": [],
   "source": [
    "vehicles.loc[vehicles['Fuel Type'].str.contains('Regular|Gasoline'),'Gas Type'] = 'Regular'\n",
    "vehicles.loc[vehicles['Fuel Type'] == 'Midgrade','Gas Type'] = 'Midgrade'\n",
    "vehicles.loc[vehicles['Fuel Type'].str.contains('Premium'),'Gas Type'] = 'Premium'\n",
    "vehicles.loc[vehicles['Fuel Type'] == 'Diesel','Gas Type'] = 'Diesel'\n",
    "vehicles.loc[vehicles['Fuel Type'].str.contains('natural|CNG'),'Gas Type'] = 'Natural'"
   ]
  },
  {
   "cell_type": "code",
   "execution_count": 11,
   "metadata": {},
   "outputs": [],
   "source": [
    "efficiency_categories = ['Very Low Efficiency', 'Low Efficiency',\n",
    "                         'Moderate Efficiency','High Efficiency',\n",
    "                         'Very High Efficiency']\n",
    "vehicles['Fuel Efficiency'] = pd.qcut(vehicles['Combined MPG'],\n",
    "                                      5, efficiency_categories)\n",
    "engine_categories = ['Very Small Engine', 'Small Engine','Moderate Engine', 'Large Engine', 'Very Large Engine']\n",
    "vehicles['Engine Size'] = pd.qcut(vehicles['Engine Displacement'],\n",
    "                                  5, engine_categories)\n",
    "emission_categories = ['Very Low Emissions', 'Low Emissions',\n",
    "                        'Moderate Emissions','High Emissions',\n",
    "                        'Very High Emissions']\n",
    "vehicles['Emissions'] = pd.qcut(vehicles['CO2 Emission Grams/Mile'],\n",
    "                                 5, emission_categories)\n",
    "fuelcost_categories = ['Very Low Fuel Cost', 'Low Fuel Cost',\n",
    "                       'Moderate Fuel Cost','High Fuel Cost',\n",
    "                       'Very High Fuel Cost']\n",
    "vehicles['Fuel Cost'] = pd.qcut(vehicles['Fuel Cost/Year'],\n",
    "                                5, fuelcost_categories)"
   ]
  },
  {
   "cell_type": "code",
   "execution_count": 12,
   "metadata": {},
   "outputs": [],
   "source": [
    "cluster_columns = ['Engine Displacement','Cylinders','Fuel Barrels/Year', 'City MPG','Highway MPG','Combined MPG', 'CO2 Emission Grams/Mile', 'Fuel Cost/Year']"
   ]
  },
  {
   "cell_type": "code",
   "execution_count": 13,
   "metadata": {},
   "outputs": [],
   "source": [
    "from sklearn import preprocessing\n",
    "scaler = preprocessing.MaxAbsScaler()\n",
    "vehicle_clusters = scaler.fit_transform(vehicles[cluster_columns])\n",
    "vehicle_clusters = pd.DataFrame(vehicle_clusters, columns=cluster_columns)"
   ]
  },
  {
   "cell_type": "code",
   "execution_count": 14,
   "metadata": {},
   "outputs": [],
   "source": [
    "from sklearn.cluster import KMeans\n",
    "def kmeans_cluster(df, n_clusters=2):\n",
    "    model = KMeans(n_clusters=n_clusters, random_state=1)\n",
    "    clusters = model.fit_predict(df)\n",
    "    cluster_results = df.copy()\n",
    "    cluster_results['Cluster'] = clusters\n",
    "    return cluster_results"
   ]
  },
  {
   "cell_type": "code",
   "execution_count": 15,
   "metadata": {},
   "outputs": [],
   "source": [
    "def summarize_clustering(results):\n",
    "    cluster_size = results.groupby(['Cluster']).size().reset_index()\n",
    "    cluster_size.columns = ['Cluster', 'Count']\n",
    "    cluster_means = results.groupby(['Cluster'], as_index=False).mean()\n",
    "    cluster_summary = pd.merge(cluster_size, cluster_means, on='Cluster')\n",
    "    return cluster_summary"
   ]
  },
  {
   "cell_type": "code",
   "execution_count": 16,
   "metadata": {},
   "outputs": [],
   "source": [
    "cluster_results = kmeans_cluster(vehicle_clusters, 8)\n",
    "cluster_summary = summarize_clustering(cluster_results)"
   ]
  },
  {
   "cell_type": "code",
   "execution_count": 17,
   "metadata": {},
   "outputs": [
    {
     "data": {
      "text/html": [
       "<div>\n",
       "<style scoped>\n",
       "    .dataframe tbody tr th:only-of-type {\n",
       "        vertical-align: middle;\n",
       "    }\n",
       "\n",
       "    .dataframe tbody tr th {\n",
       "        vertical-align: top;\n",
       "    }\n",
       "\n",
       "    .dataframe thead th {\n",
       "        text-align: right;\n",
       "    }\n",
       "</style>\n",
       "<table border=\"1\" class=\"dataframe\">\n",
       "  <thead>\n",
       "    <tr style=\"text-align: right;\">\n",
       "      <th></th>\n",
       "      <th>Cluster</th>\n",
       "      <th>Count</th>\n",
       "      <th>Engine Displacement</th>\n",
       "      <th>Cylinders</th>\n",
       "      <th>Fuel Barrels/Year</th>\n",
       "      <th>City MPG</th>\n",
       "      <th>Highway MPG</th>\n",
       "      <th>Combined MPG</th>\n",
       "      <th>CO2 Emission Grams/Mile</th>\n",
       "      <th>Fuel Cost/Year</th>\n",
       "    </tr>\n",
       "  </thead>\n",
       "  <tbody>\n",
       "    <tr>\n",
       "      <th>0</th>\n",
       "      <td>0</td>\n",
       "      <td>6334</td>\n",
       "      <td>0.241518</td>\n",
       "      <td>0.254243</td>\n",
       "      <td>0.281230</td>\n",
       "      <td>0.383366</td>\n",
       "      <td>0.487341</td>\n",
       "      <td>0.447303</td>\n",
       "      <td>0.281191</td>\n",
       "      <td>0.240410</td>\n",
       "    </tr>\n",
       "    <tr>\n",
       "      <th>1</th>\n",
       "      <td>1</td>\n",
       "      <td>2912</td>\n",
       "      <td>0.595553</td>\n",
       "      <td>0.500215</td>\n",
       "      <td>0.395664</td>\n",
       "      <td>0.262860</td>\n",
       "      <td>0.360903</td>\n",
       "      <td>0.315677</td>\n",
       "      <td>0.400217</td>\n",
       "      <td>0.364192</td>\n",
       "    </tr>\n",
       "    <tr>\n",
       "      <th>2</th>\n",
       "      <td>2</td>\n",
       "      <td>3999</td>\n",
       "      <td>0.631932</td>\n",
       "      <td>0.501500</td>\n",
       "      <td>0.495338</td>\n",
       "      <td>0.218378</td>\n",
       "      <td>0.281825</td>\n",
       "      <td>0.255475</td>\n",
       "      <td>0.495517</td>\n",
       "      <td>0.422733</td>\n",
       "    </tr>\n",
       "    <tr>\n",
       "      <th>3</th>\n",
       "      <td>3</td>\n",
       "      <td>5838</td>\n",
       "      <td>0.267466</td>\n",
       "      <td>0.253950</td>\n",
       "      <td>0.346015</td>\n",
       "      <td>0.314615</td>\n",
       "      <td>0.392238</td>\n",
       "      <td>0.363536</td>\n",
       "      <td>0.345953</td>\n",
       "      <td>0.298589</td>\n",
       "    </tr>\n",
       "    <tr>\n",
       "      <th>4</th>\n",
       "      <td>4</td>\n",
       "      <td>7704</td>\n",
       "      <td>0.382627</td>\n",
       "      <td>0.374854</td>\n",
       "      <td>0.353653</td>\n",
       "      <td>0.297454</td>\n",
       "      <td>0.405367</td>\n",
       "      <td>0.355896</td>\n",
       "      <td>0.353625</td>\n",
       "      <td>0.314951</td>\n",
       "    </tr>\n",
       "    <tr>\n",
       "      <th>5</th>\n",
       "      <td>5</td>\n",
       "      <td>1826</td>\n",
       "      <td>0.200601</td>\n",
       "      <td>0.244660</td>\n",
       "      <td>0.215546</td>\n",
       "      <td>0.518356</td>\n",
       "      <td>0.616882</td>\n",
       "      <td>0.587946</td>\n",
       "      <td>0.216954</td>\n",
       "      <td>0.183282</td>\n",
       "    </tr>\n",
       "    <tr>\n",
       "      <th>6</th>\n",
       "      <td>6</td>\n",
       "      <td>4766</td>\n",
       "      <td>0.446931</td>\n",
       "      <td>0.373387</td>\n",
       "      <td>0.437697</td>\n",
       "      <td>0.249606</td>\n",
       "      <td>0.310320</td>\n",
       "      <td>0.287299</td>\n",
       "      <td>0.437672</td>\n",
       "      <td>0.371041</td>\n",
       "    </tr>\n",
       "    <tr>\n",
       "      <th>7</th>\n",
       "      <td>7</td>\n",
       "      <td>1716</td>\n",
       "      <td>0.682005</td>\n",
       "      <td>0.570950</td>\n",
       "      <td>0.601364</td>\n",
       "      <td>0.178472</td>\n",
       "      <td>0.234963</td>\n",
       "      <td>0.210290</td>\n",
       "      <td>0.601190</td>\n",
       "      <td>0.544153</td>\n",
       "    </tr>\n",
       "  </tbody>\n",
       "</table>\n",
       "</div>"
      ],
      "text/plain": [
       "   Cluster  Count  Engine Displacement  Cylinders  Fuel Barrels/Year  \\\n",
       "0        0   6334             0.241518   0.254243           0.281230   \n",
       "1        1   2912             0.595553   0.500215           0.395664   \n",
       "2        2   3999             0.631932   0.501500           0.495338   \n",
       "3        3   5838             0.267466   0.253950           0.346015   \n",
       "4        4   7704             0.382627   0.374854           0.353653   \n",
       "5        5   1826             0.200601   0.244660           0.215546   \n",
       "6        6   4766             0.446931   0.373387           0.437697   \n",
       "7        7   1716             0.682005   0.570950           0.601364   \n",
       "\n",
       "   City MPG  Highway MPG  Combined MPG  CO2 Emission Grams/Mile  \\\n",
       "0  0.383366     0.487341      0.447303                 0.281191   \n",
       "1  0.262860     0.360903      0.315677                 0.400217   \n",
       "2  0.218378     0.281825      0.255475                 0.495517   \n",
       "3  0.314615     0.392238      0.363536                 0.345953   \n",
       "4  0.297454     0.405367      0.355896                 0.353625   \n",
       "5  0.518356     0.616882      0.587946                 0.216954   \n",
       "6  0.249606     0.310320      0.287299                 0.437672   \n",
       "7  0.178472     0.234963      0.210290                 0.601190   \n",
       "\n",
       "   Fuel Cost/Year  \n",
       "0        0.240410  \n",
       "1        0.364192  \n",
       "2        0.422733  \n",
       "3        0.298589  \n",
       "4        0.314951  \n",
       "5        0.183282  \n",
       "6        0.371041  \n",
       "7        0.544153  "
      ]
     },
     "execution_count": 17,
     "metadata": {},
     "output_type": "execute_result"
    }
   ],
   "source": [
    "cluster_summary"
   ]
  },
  {
   "cell_type": "code",
   "execution_count": 19,
   "metadata": {},
   "outputs": [
    {
     "data": {
      "text/plain": [
       "<matplotlib.axes._subplots.AxesSubplot at 0x7969487eb8>"
      ]
     },
     "execution_count": 19,
     "metadata": {},
     "output_type": "execute_result"
    }
   ],
   "source": [
    "import matplotlib.pyplot as plt\n",
    "import seaborn as sns\n",
    "\n",
    "sns.heatmap(cluster_summary[cluster_columns].transpose(), annot=True)\n",
    "cluster_results = kmeans_cluster(vehicle_clusters, 4)\n",
    "cluster_summary = summarize_clustering(cluster_results)\n",
    "sns.heatmap(cluster_summary[cluster_columns].transpose(), annot=True)"
   ]
  },
  {
   "cell_type": "code",
   "execution_count": 20,
   "metadata": {},
   "outputs": [
    {
     "name": "stderr",
     "output_type": "stream",
     "text": [
      "C:\\Users\\user01\\Anaconda3\\lib\\site-packages\\ipykernel_launcher.py:2: SettingWithCopyWarning: \n",
      "A value is trying to be set on a copy of a slice from a DataFrame\n",
      "\n",
      "See the caveats in the documentation: http://pandas.pydata.org/pandas-docs/stable/indexing.html#indexing-view-versus-copy\n",
      "  \n",
      "C:\\Users\\user01\\Anaconda3\\lib\\site-packages\\ipykernel_launcher.py:3: SettingWithCopyWarning: \n",
      "A value is trying to be set on a copy of a slice from a DataFrame\n",
      "\n",
      "See the caveats in the documentation: http://pandas.pydata.org/pandas-docs/stable/indexing.html#indexing-view-versus-copy\n",
      "  This is separate from the ipykernel package so we can avoid doing imports until\n",
      "C:\\Users\\user01\\Anaconda3\\lib\\site-packages\\ipykernel_launcher.py:4: SettingWithCopyWarning: \n",
      "A value is trying to be set on a copy of a slice from a DataFrame\n",
      "\n",
      "See the caveats in the documentation: http://pandas.pydata.org/pandas-docs/stable/indexing.html#indexing-view-versus-copy\n",
      "  after removing the cwd from sys.path.\n",
      "C:\\Users\\user01\\Anaconda3\\lib\\site-packages\\ipykernel_launcher.py:5: SettingWithCopyWarning: \n",
      "A value is trying to be set on a copy of a slice from a DataFrame\n",
      "\n",
      "See the caveats in the documentation: http://pandas.pydata.org/pandas-docs/stable/indexing.html#indexing-view-versus-copy\n",
      "  \"\"\"\n"
     ]
    }
   ],
   "source": [
    "cluster_results['Cluster Name'] = ''\n",
    "cluster_results['Cluster Name'][cluster_results['Cluster']==0] = 'Midsized Balanced'\n",
    "cluster_results['Cluster Name'][cluster_results['Cluster']==1] = 'Large Inefficient'\n",
    "cluster_results['Cluster Name'][cluster_results['Cluster']==2] = 'Large Moderately Efficient'\n",
    "cluster_results['Cluster Name'][cluster_results['Cluster']==3] = 'Small Very Efficient'\n",
    "vehicles = vehicles.reset_index().drop('index', axis=1)\n",
    "vehicles['Cluster Name'] = cluster_results['Cluster Name']"
   ]
  },
  {
   "cell_type": "code",
   "execution_count": 23,
   "metadata": {},
   "outputs": [],
   "source": [
    "def agg_count(df, group_field):\n",
    "    grouped = df.groupby(group_field, as_index=False).size()\n",
    "    \n",
    "    grouped = pd.DataFrame(grouped).reset_index()\n",
    "    grouped.columns = [group_field, 'Count']\n",
    "    return grouped"
   ]
  },
  {
   "cell_type": "code",
   "execution_count": 24,
   "metadata": {},
   "outputs": [],
   "source": [
    "vehicles_2016 = vehicles[vehicles['Year']==2016]\n",
    "category_counts = agg_count(vehicles_2016, 'Vehicle Category')"
   ]
  },
  {
   "cell_type": "code",
   "execution_count": 26,
   "metadata": {},
   "outputs": [
    {
     "ename": "AttributeError",
     "evalue": "'DataFrame' object has no attribute 'sort'",
     "output_type": "error",
     "traceback": [
      "\u001b[1;31m---------------------------------------------------------------------------\u001b[0m",
      "\u001b[1;31mAttributeError\u001b[0m                            Traceback (most recent call last)",
      "\u001b[1;32m<ipython-input-26-b287bff2e1f2>\u001b[0m in \u001b[0;36m<module>\u001b[1;34m\u001b[0m\n\u001b[1;32m----> 1\u001b[1;33m \u001b[0mcategory_counts\u001b[0m\u001b[1;33m.\u001b[0m\u001b[0msort\u001b[0m\u001b[1;33m(\u001b[0m\u001b[1;33m)\u001b[0m\u001b[1;33m\u001b[0m\u001b[1;33m\u001b[0m\u001b[0m\n\u001b[0m",
      "\u001b[1;32m~\\Anaconda3\\lib\\site-packages\\pandas\\core\\generic.py\u001b[0m in \u001b[0;36m__getattr__\u001b[1;34m(self, name)\u001b[0m\n\u001b[0;32m   5065\u001b[0m             \u001b[1;32mif\u001b[0m \u001b[0mself\u001b[0m\u001b[1;33m.\u001b[0m\u001b[0m_info_axis\u001b[0m\u001b[1;33m.\u001b[0m\u001b[0m_can_hold_identifiers_and_holds_name\u001b[0m\u001b[1;33m(\u001b[0m\u001b[0mname\u001b[0m\u001b[1;33m)\u001b[0m\u001b[1;33m:\u001b[0m\u001b[1;33m\u001b[0m\u001b[1;33m\u001b[0m\u001b[0m\n\u001b[0;32m   5066\u001b[0m                 \u001b[1;32mreturn\u001b[0m \u001b[0mself\u001b[0m\u001b[1;33m[\u001b[0m\u001b[0mname\u001b[0m\u001b[1;33m]\u001b[0m\u001b[1;33m\u001b[0m\u001b[1;33m\u001b[0m\u001b[0m\n\u001b[1;32m-> 5067\u001b[1;33m             \u001b[1;32mreturn\u001b[0m \u001b[0mobject\u001b[0m\u001b[1;33m.\u001b[0m\u001b[0m__getattribute__\u001b[0m\u001b[1;33m(\u001b[0m\u001b[0mself\u001b[0m\u001b[1;33m,\u001b[0m \u001b[0mname\u001b[0m\u001b[1;33m)\u001b[0m\u001b[1;33m\u001b[0m\u001b[1;33m\u001b[0m\u001b[0m\n\u001b[0m\u001b[0;32m   5068\u001b[0m \u001b[1;33m\u001b[0m\u001b[0m\n\u001b[0;32m   5069\u001b[0m     \u001b[1;32mdef\u001b[0m \u001b[0m__setattr__\u001b[0m\u001b[1;33m(\u001b[0m\u001b[0mself\u001b[0m\u001b[1;33m,\u001b[0m \u001b[0mname\u001b[0m\u001b[1;33m,\u001b[0m \u001b[0mvalue\u001b[0m\u001b[1;33m)\u001b[0m\u001b[1;33m:\u001b[0m\u001b[1;33m\u001b[0m\u001b[1;33m\u001b[0m\u001b[0m\n",
      "\u001b[1;31mAttributeError\u001b[0m: 'DataFrame' object has no attribute 'sort'"
     ]
    }
   ],
   "source": [
    "category_counts.sort()"
   ]
  },
  {
   "cell_type": "code",
   "execution_count": null,
   "metadata": {},
   "outputs": [],
   "source": []
  }
 ],
 "metadata": {
  "kernelspec": {
   "display_name": "Python 3",
   "language": "python",
   "name": "python3"
  },
  "language_info": {
   "codemirror_mode": {
    "name": "ipython",
    "version": 3
   },
   "file_extension": ".py",
   "mimetype": "text/x-python",
   "name": "python",
   "nbconvert_exporter": "python",
   "pygments_lexer": "ipython3",
   "version": "3.7.3"
  }
 },
 "nbformat": 4,
 "nbformat_minor": 2
}
